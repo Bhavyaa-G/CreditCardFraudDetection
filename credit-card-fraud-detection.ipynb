{
 "cells": [
  {
   "cell_type": "code",
   "execution_count": 2,
   "id": "58111581",
   "metadata": {
    "_cell_guid": "b1076dfc-b9ad-4769-8c92-a6c4dae69d19",
    "_uuid": "8f2839f25d086af736a60e9eeb907d3b93b6e0e5",
    "execution": {
     "iopub.execute_input": "2023-10-30T20:23:27.305366Z",
     "iopub.status.busy": "2023-10-30T20:23:27.304903Z",
     "iopub.status.idle": "2023-10-30T20:23:32.079888Z",
     "shell.execute_reply": "2023-10-30T20:23:32.078386Z"
    },
    "papermill": {
     "duration": 4.793699,
     "end_time": "2023-10-30T20:23:32.083232",
     "exception": false,
     "start_time": "2023-10-30T20:23:27.289533",
     "status": "completed"
    },
    "tags": []
   },
   "outputs": [
    {
     "name": "stderr",
     "output_type": "stream",
     "text": [
      "C:\\Users\\bhavy\\anaconda3\\Lib\\site-packages\\paramiko\\transport.py:219: CryptographyDeprecationWarning: Blowfish has been deprecated\n",
      "  \"class\": algorithms.Blowfish,\n"
     ]
    }
   ],
   "source": [
    "import numpy as np\n",
    "import pandas as pd \n",
    "\n",
    "import matplotlib\n",
    "import matplotlib.pyplot as plt\n",
    "import seaborn as sns\n",
    "import plotly.graph_objs as go\n",
    "import plotly.figure_factory as ff\n",
    "from plotly import tools\n",
    "from plotly.offline import init_notebook_mode, iplot\n",
    "\n",
    "from sklearn.preprocessing import StandardScaler\n",
    "from sklearn.metrics import confusion_matrix\n",
    "from sklearn.model_selection import train_test_split, cross_val_score\n"
   ]
  },
  {
   "cell_type": "code",
   "execution_count": 3,
   "id": "8d417075",
   "metadata": {
    "execution": {
     "iopub.execute_input": "2023-10-30T20:23:32.245031Z",
     "iopub.status.busy": "2023-10-30T20:23:32.243717Z",
     "iopub.status.idle": "2023-10-30T20:23:37.327657Z",
     "shell.execute_reply": "2023-10-30T20:23:37.325863Z"
    },
    "papermill": {
     "duration": 5.102036,
     "end_time": "2023-10-30T20:23:37.330816",
     "exception": false,
     "start_time": "2023-10-30T20:23:32.228780",
     "status": "completed"
    },
    "tags": []
   },
   "outputs": [
    {
     "data": {
      "text/html": [
       "<div>\n",
       "<style scoped>\n",
       "    .dataframe tbody tr th:only-of-type {\n",
       "        vertical-align: middle;\n",
       "    }\n",
       "\n",
       "    .dataframe tbody tr th {\n",
       "        vertical-align: top;\n",
       "    }\n",
       "\n",
       "    .dataframe thead th {\n",
       "        text-align: right;\n",
       "    }\n",
       "</style>\n",
       "<table border=\"1\" class=\"dataframe\">\n",
       "  <thead>\n",
       "    <tr style=\"text-align: right;\">\n",
       "      <th></th>\n",
       "      <th>Time</th>\n",
       "      <th>V1</th>\n",
       "      <th>V2</th>\n",
       "      <th>V3</th>\n",
       "      <th>V4</th>\n",
       "      <th>V5</th>\n",
       "      <th>V6</th>\n",
       "      <th>V7</th>\n",
       "      <th>V8</th>\n",
       "      <th>V9</th>\n",
       "      <th>...</th>\n",
       "      <th>V21</th>\n",
       "      <th>V22</th>\n",
       "      <th>V23</th>\n",
       "      <th>V24</th>\n",
       "      <th>V25</th>\n",
       "      <th>V26</th>\n",
       "      <th>V27</th>\n",
       "      <th>V28</th>\n",
       "      <th>Amount</th>\n",
       "      <th>Class</th>\n",
       "    </tr>\n",
       "  </thead>\n",
       "  <tbody>\n",
       "    <tr>\n",
       "      <th>0</th>\n",
       "      <td>0.0</td>\n",
       "      <td>-1.359807</td>\n",
       "      <td>-0.072781</td>\n",
       "      <td>2.536347</td>\n",
       "      <td>1.378155</td>\n",
       "      <td>-0.338321</td>\n",
       "      <td>0.462388</td>\n",
       "      <td>0.239599</td>\n",
       "      <td>0.098698</td>\n",
       "      <td>0.363787</td>\n",
       "      <td>...</td>\n",
       "      <td>-0.018307</td>\n",
       "      <td>0.277838</td>\n",
       "      <td>-0.110474</td>\n",
       "      <td>0.066928</td>\n",
       "      <td>0.128539</td>\n",
       "      <td>-0.189115</td>\n",
       "      <td>0.133558</td>\n",
       "      <td>-0.021053</td>\n",
       "      <td>149.62</td>\n",
       "      <td>0</td>\n",
       "    </tr>\n",
       "    <tr>\n",
       "      <th>1</th>\n",
       "      <td>0.0</td>\n",
       "      <td>1.191857</td>\n",
       "      <td>0.266151</td>\n",
       "      <td>0.166480</td>\n",
       "      <td>0.448154</td>\n",
       "      <td>0.060018</td>\n",
       "      <td>-0.082361</td>\n",
       "      <td>-0.078803</td>\n",
       "      <td>0.085102</td>\n",
       "      <td>-0.255425</td>\n",
       "      <td>...</td>\n",
       "      <td>-0.225775</td>\n",
       "      <td>-0.638672</td>\n",
       "      <td>0.101288</td>\n",
       "      <td>-0.339846</td>\n",
       "      <td>0.167170</td>\n",
       "      <td>0.125895</td>\n",
       "      <td>-0.008983</td>\n",
       "      <td>0.014724</td>\n",
       "      <td>2.69</td>\n",
       "      <td>0</td>\n",
       "    </tr>\n",
       "    <tr>\n",
       "      <th>2</th>\n",
       "      <td>1.0</td>\n",
       "      <td>-1.358354</td>\n",
       "      <td>-1.340163</td>\n",
       "      <td>1.773209</td>\n",
       "      <td>0.379780</td>\n",
       "      <td>-0.503198</td>\n",
       "      <td>1.800499</td>\n",
       "      <td>0.791461</td>\n",
       "      <td>0.247676</td>\n",
       "      <td>-1.514654</td>\n",
       "      <td>...</td>\n",
       "      <td>0.247998</td>\n",
       "      <td>0.771679</td>\n",
       "      <td>0.909412</td>\n",
       "      <td>-0.689281</td>\n",
       "      <td>-0.327642</td>\n",
       "      <td>-0.139097</td>\n",
       "      <td>-0.055353</td>\n",
       "      <td>-0.059752</td>\n",
       "      <td>378.66</td>\n",
       "      <td>0</td>\n",
       "    </tr>\n",
       "    <tr>\n",
       "      <th>3</th>\n",
       "      <td>1.0</td>\n",
       "      <td>-0.966272</td>\n",
       "      <td>-0.185226</td>\n",
       "      <td>1.792993</td>\n",
       "      <td>-0.863291</td>\n",
       "      <td>-0.010309</td>\n",
       "      <td>1.247203</td>\n",
       "      <td>0.237609</td>\n",
       "      <td>0.377436</td>\n",
       "      <td>-1.387024</td>\n",
       "      <td>...</td>\n",
       "      <td>-0.108300</td>\n",
       "      <td>0.005274</td>\n",
       "      <td>-0.190321</td>\n",
       "      <td>-1.175575</td>\n",
       "      <td>0.647376</td>\n",
       "      <td>-0.221929</td>\n",
       "      <td>0.062723</td>\n",
       "      <td>0.061458</td>\n",
       "      <td>123.50</td>\n",
       "      <td>0</td>\n",
       "    </tr>\n",
       "    <tr>\n",
       "      <th>4</th>\n",
       "      <td>2.0</td>\n",
       "      <td>-1.158233</td>\n",
       "      <td>0.877737</td>\n",
       "      <td>1.548718</td>\n",
       "      <td>0.403034</td>\n",
       "      <td>-0.407193</td>\n",
       "      <td>0.095921</td>\n",
       "      <td>0.592941</td>\n",
       "      <td>-0.270533</td>\n",
       "      <td>0.817739</td>\n",
       "      <td>...</td>\n",
       "      <td>-0.009431</td>\n",
       "      <td>0.798278</td>\n",
       "      <td>-0.137458</td>\n",
       "      <td>0.141267</td>\n",
       "      <td>-0.206010</td>\n",
       "      <td>0.502292</td>\n",
       "      <td>0.219422</td>\n",
       "      <td>0.215153</td>\n",
       "      <td>69.99</td>\n",
       "      <td>0</td>\n",
       "    </tr>\n",
       "  </tbody>\n",
       "</table>\n",
       "<p>5 rows × 31 columns</p>\n",
       "</div>"
      ],
      "text/plain": [
       "   Time        V1        V2        V3        V4        V5        V6        V7  \\\n",
       "0   0.0 -1.359807 -0.072781  2.536347  1.378155 -0.338321  0.462388  0.239599   \n",
       "1   0.0  1.191857  0.266151  0.166480  0.448154  0.060018 -0.082361 -0.078803   \n",
       "2   1.0 -1.358354 -1.340163  1.773209  0.379780 -0.503198  1.800499  0.791461   \n",
       "3   1.0 -0.966272 -0.185226  1.792993 -0.863291 -0.010309  1.247203  0.237609   \n",
       "4   2.0 -1.158233  0.877737  1.548718  0.403034 -0.407193  0.095921  0.592941   \n",
       "\n",
       "         V8        V9  ...       V21       V22       V23       V24       V25  \\\n",
       "0  0.098698  0.363787  ... -0.018307  0.277838 -0.110474  0.066928  0.128539   \n",
       "1  0.085102 -0.255425  ... -0.225775 -0.638672  0.101288 -0.339846  0.167170   \n",
       "2  0.247676 -1.514654  ...  0.247998  0.771679  0.909412 -0.689281 -0.327642   \n",
       "3  0.377436 -1.387024  ... -0.108300  0.005274 -0.190321 -1.175575  0.647376   \n",
       "4 -0.270533  0.817739  ... -0.009431  0.798278 -0.137458  0.141267 -0.206010   \n",
       "\n",
       "        V26       V27       V28  Amount  Class  \n",
       "0 -0.189115  0.133558 -0.021053  149.62      0  \n",
       "1  0.125895 -0.008983  0.014724    2.69      0  \n",
       "2 -0.139097 -0.055353 -0.059752  378.66      0  \n",
       "3 -0.221929  0.062723  0.061458  123.50      0  \n",
       "4  0.502292  0.219422  0.215153   69.99      0  \n",
       "\n",
       "[5 rows x 31 columns]"
      ]
     },
     "execution_count": 3,
     "metadata": {},
     "output_type": "execute_result"
    }
   ],
   "source": [
    "df = pd.read_csv(\"creditcard.csv\")\n",
    "df.head()"
   ]
  },
  {
   "cell_type": "code",
   "execution_count": 3,
   "id": "72a578b9",
   "metadata": {
    "execution": {
     "iopub.execute_input": "2023-10-30T20:23:37.390141Z",
     "iopub.status.busy": "2023-10-30T20:23:37.388838Z",
     "iopub.status.idle": "2023-10-30T20:23:37.397280Z",
     "shell.execute_reply": "2023-10-30T20:23:37.395865Z"
    },
    "papermill": {
     "duration": 0.026457,
     "end_time": "2023-10-30T20:23:37.400101",
     "exception": false,
     "start_time": "2023-10-30T20:23:37.373644",
     "status": "completed"
    },
    "tags": []
   },
   "outputs": [
    {
     "data": {
      "text/plain": [
       "(284807, 31)"
      ]
     },
     "execution_count": 3,
     "metadata": {},
     "output_type": "execute_result"
    }
   ],
   "source": [
    "df.shape"
   ]
  },
  {
   "cell_type": "code",
   "execution_count": 4,
   "id": "19d68e35",
   "metadata": {
    "execution": {
     "iopub.execute_input": "2023-10-30T20:23:37.430623Z",
     "iopub.status.busy": "2023-10-30T20:23:37.430078Z",
     "iopub.status.idle": "2023-10-30T20:23:37.505604Z",
     "shell.execute_reply": "2023-10-30T20:23:37.504328Z"
    },
    "papermill": {
     "duration": 0.094436,
     "end_time": "2023-10-30T20:23:37.508687",
     "exception": false,
     "start_time": "2023-10-30T20:23:37.414251",
     "status": "completed"
    },
    "tags": []
   },
   "outputs": [
    {
     "data": {
      "text/html": [
       "<div>\n",
       "<style scoped>\n",
       "    .dataframe tbody tr th:only-of-type {\n",
       "        vertical-align: middle;\n",
       "    }\n",
       "\n",
       "    .dataframe tbody tr th {\n",
       "        vertical-align: top;\n",
       "    }\n",
       "\n",
       "    .dataframe thead th {\n",
       "        text-align: right;\n",
       "    }\n",
       "</style>\n",
       "<table border=\"1\" class=\"dataframe\">\n",
       "  <thead>\n",
       "    <tr style=\"text-align: right;\">\n",
       "      <th></th>\n",
       "      <th>Time</th>\n",
       "      <th>Amount</th>\n",
       "      <th>Class</th>\n",
       "    </tr>\n",
       "  </thead>\n",
       "  <tbody>\n",
       "    <tr>\n",
       "      <th>count</th>\n",
       "      <td>284807.000000</td>\n",
       "      <td>284807.000000</td>\n",
       "      <td>284807.000000</td>\n",
       "    </tr>\n",
       "    <tr>\n",
       "      <th>mean</th>\n",
       "      <td>94813.859575</td>\n",
       "      <td>88.349619</td>\n",
       "      <td>0.001727</td>\n",
       "    </tr>\n",
       "    <tr>\n",
       "      <th>std</th>\n",
       "      <td>47488.145955</td>\n",
       "      <td>250.120109</td>\n",
       "      <td>0.041527</td>\n",
       "    </tr>\n",
       "    <tr>\n",
       "      <th>min</th>\n",
       "      <td>0.000000</td>\n",
       "      <td>0.000000</td>\n",
       "      <td>0.000000</td>\n",
       "    </tr>\n",
       "    <tr>\n",
       "      <th>25%</th>\n",
       "      <td>54201.500000</td>\n",
       "      <td>5.600000</td>\n",
       "      <td>0.000000</td>\n",
       "    </tr>\n",
       "    <tr>\n",
       "      <th>50%</th>\n",
       "      <td>84692.000000</td>\n",
       "      <td>22.000000</td>\n",
       "      <td>0.000000</td>\n",
       "    </tr>\n",
       "    <tr>\n",
       "      <th>75%</th>\n",
       "      <td>139320.500000</td>\n",
       "      <td>77.165000</td>\n",
       "      <td>0.000000</td>\n",
       "    </tr>\n",
       "    <tr>\n",
       "      <th>max</th>\n",
       "      <td>172792.000000</td>\n",
       "      <td>25691.160000</td>\n",
       "      <td>1.000000</td>\n",
       "    </tr>\n",
       "  </tbody>\n",
       "</table>\n",
       "</div>"
      ],
      "text/plain": [
       "                Time         Amount          Class\n",
       "count  284807.000000  284807.000000  284807.000000\n",
       "mean    94813.859575      88.349619       0.001727\n",
       "std     47488.145955     250.120109       0.041527\n",
       "min         0.000000       0.000000       0.000000\n",
       "25%     54201.500000       5.600000       0.000000\n",
       "50%     84692.000000      22.000000       0.000000\n",
       "75%    139320.500000      77.165000       0.000000\n",
       "max    172792.000000   25691.160000       1.000000"
      ]
     },
     "execution_count": 4,
     "metadata": {},
     "output_type": "execute_result"
    }
   ],
   "source": [
    "df[[\"Time\", \"Amount\", \"Class\"]].describe()"
   ]
  },
  {
   "cell_type": "code",
   "execution_count": 5,
   "id": "bdc4ff34",
   "metadata": {
    "execution": {
     "iopub.execute_input": "2023-10-30T20:23:37.541729Z",
     "iopub.status.busy": "2023-10-30T20:23:37.540736Z",
     "iopub.status.idle": "2023-10-30T20:23:37.589425Z",
     "shell.execute_reply": "2023-10-30T20:23:37.587771Z"
    },
    "papermill": {
     "duration": 0.070117,
     "end_time": "2023-10-30T20:23:37.593001",
     "exception": false,
     "start_time": "2023-10-30T20:23:37.522884",
     "status": "completed"
    },
    "tags": []
   },
   "outputs": [
    {
     "name": "stdout",
     "output_type": "stream",
     "text": [
      "<class 'pandas.core.frame.DataFrame'>\n",
      "RangeIndex: 284807 entries, 0 to 284806\n",
      "Data columns (total 31 columns):\n",
      " #   Column  Non-Null Count   Dtype  \n",
      "---  ------  --------------   -----  \n",
      " 0   Time    284807 non-null  float64\n",
      " 1   V1      284807 non-null  float64\n",
      " 2   V2      284807 non-null  float64\n",
      " 3   V3      284807 non-null  float64\n",
      " 4   V4      284807 non-null  float64\n",
      " 5   V5      284807 non-null  float64\n",
      " 6   V6      284807 non-null  float64\n",
      " 7   V7      284807 non-null  float64\n",
      " 8   V8      284807 non-null  float64\n",
      " 9   V9      284807 non-null  float64\n",
      " 10  V10     284807 non-null  float64\n",
      " 11  V11     284807 non-null  float64\n",
      " 12  V12     284807 non-null  float64\n",
      " 13  V13     284807 non-null  float64\n",
      " 14  V14     284807 non-null  float64\n",
      " 15  V15     284807 non-null  float64\n",
      " 16  V16     284807 non-null  float64\n",
      " 17  V17     284807 non-null  float64\n",
      " 18  V18     284807 non-null  float64\n",
      " 19  V19     284807 non-null  float64\n",
      " 20  V20     284807 non-null  float64\n",
      " 21  V21     284807 non-null  float64\n",
      " 22  V22     284807 non-null  float64\n",
      " 23  V23     284807 non-null  float64\n",
      " 24  V24     284807 non-null  float64\n",
      " 25  V25     284807 non-null  float64\n",
      " 26  V26     284807 non-null  float64\n",
      " 27  V27     284807 non-null  float64\n",
      " 28  V28     284807 non-null  float64\n",
      " 29  Amount  284807 non-null  float64\n",
      " 30  Class   284807 non-null  int64  \n",
      "dtypes: float64(30), int64(1)\n",
      "memory usage: 67.4 MB\n"
     ]
    }
   ],
   "source": [
    "df.info()"
   ]
  },
  {
   "cell_type": "code",
   "execution_count": 6,
   "id": "d3cd6e8b",
   "metadata": {
    "execution": {
     "iopub.execute_input": "2023-10-30T20:23:37.624741Z",
     "iopub.status.busy": "2023-10-30T20:23:37.623713Z",
     "iopub.status.idle": "2023-10-30T20:23:37.648536Z",
     "shell.execute_reply": "2023-10-30T20:23:37.647501Z"
    },
    "papermill": {
     "duration": 0.043775,
     "end_time": "2023-10-30T20:23:37.651133",
     "exception": false,
     "start_time": "2023-10-30T20:23:37.607358",
     "status": "completed"
    },
    "tags": []
   },
   "outputs": [
    {
     "data": {
      "text/plain": [
       "Time      0\n",
       "V1        0\n",
       "V2        0\n",
       "V3        0\n",
       "V4        0\n",
       "V5        0\n",
       "V6        0\n",
       "V7        0\n",
       "V8        0\n",
       "V9        0\n",
       "V10       0\n",
       "V11       0\n",
       "V12       0\n",
       "V13       0\n",
       "V14       0\n",
       "V15       0\n",
       "V16       0\n",
       "V17       0\n",
       "V18       0\n",
       "V19       0\n",
       "V20       0\n",
       "V21       0\n",
       "V22       0\n",
       "V23       0\n",
       "V24       0\n",
       "V25       0\n",
       "V26       0\n",
       "V27       0\n",
       "V28       0\n",
       "Amount    0\n",
       "Class     0\n",
       "dtype: int64"
      ]
     },
     "execution_count": 6,
     "metadata": {},
     "output_type": "execute_result"
    }
   ],
   "source": [
    "df.isnull().sum()"
   ]
  },
  {
   "cell_type": "code",
   "execution_count": 7,
   "id": "5ed4d580",
   "metadata": {
    "execution": {
     "iopub.execute_input": "2023-10-30T20:23:37.683754Z",
     "iopub.status.busy": "2023-10-30T20:23:37.683030Z",
     "iopub.status.idle": "2023-10-30T20:23:37.741683Z",
     "shell.execute_reply": "2023-10-30T20:23:37.740269Z"
    },
    "papermill": {
     "duration": 0.078866,
     "end_time": "2023-10-30T20:23:37.744977",
     "exception": false,
     "start_time": "2023-10-30T20:23:37.666111",
     "status": "completed"
    },
    "tags": []
   },
   "outputs": [
    {
     "data": {
      "text/plain": [
       "Class\n",
       "0    284315\n",
       "1       492\n",
       "Name: count, dtype: int64"
      ]
     },
     "execution_count": 7,
     "metadata": {},
     "output_type": "execute_result"
    }
   ],
   "source": [
    "fraud = df[df[\"Class\"] == 1]\n",
    "not_fraud = df[df[\"Class\"] == 0]\n",
    "df['Class'].value_counts()"
   ]
  },
  {
   "cell_type": "code",
   "execution_count": 8,
   "id": "3d8fd868",
   "metadata": {
    "execution": {
     "iopub.execute_input": "2023-10-30T20:23:37.776418Z",
     "iopub.status.busy": "2023-10-30T20:23:37.775888Z",
     "iopub.status.idle": "2023-10-30T20:23:37.782504Z",
     "shell.execute_reply": "2023-10-30T20:23:37.781233Z"
    },
    "papermill": {
     "duration": 0.025674,
     "end_time": "2023-10-30T20:23:37.785398",
     "exception": false,
     "start_time": "2023-10-30T20:23:37.759724",
     "status": "completed"
    },
    "tags": []
   },
   "outputs": [
    {
     "name": "stdout",
     "output_type": "stream",
     "text": [
      "(492, 31)\n",
      "(284315, 31)\n"
     ]
    }
   ],
   "source": [
    "print(fraud.shape)\n",
    "print(not_fraud.shape)"
   ]
  },
  {
   "cell_type": "code",
   "execution_count": 9,
   "id": "80cf8cfe",
   "metadata": {
    "execution": {
     "iopub.execute_input": "2023-10-30T20:23:37.816781Z",
     "iopub.status.busy": "2023-10-30T20:23:37.816273Z",
     "iopub.status.idle": "2023-10-30T20:23:37.829462Z",
     "shell.execute_reply": "2023-10-30T20:23:37.828295Z"
    },
    "papermill": {
     "duration": 0.032161,
     "end_time": "2023-10-30T20:23:37.832307",
     "exception": false,
     "start_time": "2023-10-30T20:23:37.800146",
     "status": "completed"
    },
    "tags": []
   },
   "outputs": [
    {
     "data": {
      "text/plain": [
       "count     492.000000\n",
       "mean      122.211321\n",
       "std       256.683288\n",
       "min         0.000000\n",
       "25%         1.000000\n",
       "50%         9.250000\n",
       "75%       105.890000\n",
       "max      2125.870000\n",
       "Name: Amount, dtype: float64"
      ]
     },
     "execution_count": 9,
     "metadata": {},
     "output_type": "execute_result"
    }
   ],
   "source": [
    "fraud.Amount.describe()"
   ]
  },
  {
   "cell_type": "code",
   "execution_count": 10,
   "id": "03f34c53",
   "metadata": {
    "execution": {
     "iopub.execute_input": "2023-10-30T20:23:37.864052Z",
     "iopub.status.busy": "2023-10-30T20:23:37.863517Z",
     "iopub.status.idle": "2023-10-30T20:23:37.889335Z",
     "shell.execute_reply": "2023-10-30T20:23:37.887935Z"
    },
    "papermill": {
     "duration": 0.045776,
     "end_time": "2023-10-30T20:23:37.892980",
     "exception": false,
     "start_time": "2023-10-30T20:23:37.847204",
     "status": "completed"
    },
    "tags": []
   },
   "outputs": [
    {
     "data": {
      "text/plain": [
       "count    284315.000000\n",
       "mean         88.291022\n",
       "std         250.105092\n",
       "min           0.000000\n",
       "25%           5.650000\n",
       "50%          22.000000\n",
       "75%          77.050000\n",
       "max       25691.160000\n",
       "Name: Amount, dtype: float64"
      ]
     },
     "execution_count": 10,
     "metadata": {},
     "output_type": "execute_result"
    }
   ],
   "source": [
    "not_fraud.Amount.describe()"
   ]
  },
  {
   "cell_type": "code",
   "execution_count": 11,
   "id": "7232ce58",
   "metadata": {
    "execution": {
     "iopub.execute_input": "2023-10-30T20:23:37.956270Z",
     "iopub.status.busy": "2023-10-30T20:23:37.955793Z",
     "iopub.status.idle": "2023-10-30T20:24:01.479660Z",
     "shell.execute_reply": "2023-10-30T20:24:01.478338Z"
    },
    "papermill": {
     "duration": 23.544879,
     "end_time": "2023-10-30T20:24:01.483336",
     "exception": false,
     "start_time": "2023-10-30T20:23:37.938457",
     "status": "completed"
    },
    "tags": []
   },
   "outputs": [
    {
     "data": {
      "image/png": "[encoded data removed]",
      "text/plain": [
       "<Figure size 1500x600 with 2 Axes>"
      ]
     },
     "metadata": {},
     "output_type": "display_data"
    }
   ],
   "source": [
    "# Create subplots\n",
    "f, (ax1, ax2) = plt.subplots(1, 2, figsize=(15, 6))\n",
    "\n",
    "# Use histplot for distribution plots\n",
    "sns.histplot(df['Time'], ax = ax1, color='b', kde = True)\n",
    "sns.histplot(df['Amount'], ax = ax2, color='r', kde = True)\n",
    "\n",
    "# Set titles for the subplots\n",
    "ax1.set_title('Distribution of Time', fontsize = 13)\n",
    "ax2.set_title('Distribution of Amount', fontsize = 13)\n",
    "\n",
    "# Show the plots\n",
    "plt.show()"
   ]
  },
  {
   "cell_type": "code",
   "execution_count": 12,
   "id": "7688f68d",
   "metadata": {
    "execution": {
     "iopub.execute_input": "2023-10-30T20:24:01.646959Z",
     "iopub.status.busy": "2023-10-30T20:24:01.646466Z",
     "iopub.status.idle": "2023-10-30T20:24:03.410901Z",
     "shell.execute_reply": "2023-10-30T20:24:03.409819Z"
    },
    "papermill": {
     "duration": 1.785422,
     "end_time": "2023-10-30T20:24:03.413598",
     "exception": false,
     "start_time": "2023-10-30T20:24:01.628176",
     "status": "completed"
    },
    "tags": []
   },
   "outputs": [
    {
     "data": {
      "image/png": "[encoded data removed]",
      "text/plain": [
       "<Figure size 1400x1400 with 2 Axes>"
      ]
     },
     "metadata": {},
     "output_type": "display_data"
    }
   ],
   "source": [
    "plt.figure(figsize = (14,14))\n",
    "plt.title('Credit Card Transactions features correlation plot (Pearson)')\n",
    "corr = df.corr()\n",
    "sns.heatmap(corr, xticklabels=corr.columns, yticklabels=corr.columns, linewidths=.1)\n",
    "plt.show()"
   ]
  },
  {
   "cell_type": "code",
   "execution_count": 1,
   "id": "3f3ac049",
   "metadata": {
    "execution": {
     "iopub.execute_input": "2023-10-30T20:24:03.488292Z",
     "iopub.status.busy": "2023-10-30T20:24:03.487510Z",
     "iopub.status.idle": "2023-10-30T20:24:04.917017Z",
     "shell.execute_reply": "2023-10-30T20:24:04.915686Z"
    },
    "papermill": {
     "duration": 1.453418,
     "end_time": "2023-10-30T20:24:04.919854",
     "exception": false,
     "start_time": "2023-10-30T20:24:03.466436",
     "status": "completed"
    },
    "tags": []
   },
   "outputs": [
    {
     "ename": "NameError",
     "evalue": "name 'go' is not defined",
     "output_type": "error",
     "traceback": [
      "\u001b[1;31m---------------------------------------------------------------------------\u001b[0m",
      "\u001b[1;31mNameError\u001b[0m                                 Traceback (most recent call last)",
      "Cell \u001b[1;32mIn[1], line 2\u001b[0m\n\u001b[0;32m      1\u001b[0m \u001b[38;5;66;03m# Create a scatter plot for fraudulent transactions\u001b[39;00m\n\u001b[1;32m----> 2\u001b[0m trace \u001b[38;5;241m=\u001b[39m go\u001b[38;5;241m.\u001b[39mScatter(\n\u001b[0;32m      3\u001b[0m     x\u001b[38;5;241m=\u001b[39mfraud[\u001b[38;5;124m'\u001b[39m\u001b[38;5;124mTime\u001b[39m\u001b[38;5;124m'\u001b[39m],\n\u001b[0;32m      4\u001b[0m     y\u001b[38;5;241m=\u001b[39mfraud[\u001b[38;5;124m'\u001b[39m\u001b[38;5;124mAmount\u001b[39m\u001b[38;5;124m'\u001b[39m],\n\u001b[0;32m      5\u001b[0m     mode\u001b[38;5;241m=\u001b[39m\u001b[38;5;124m\"\u001b[39m\u001b[38;5;124mmarkers\u001b[39m\u001b[38;5;124m\"\u001b[39m,\n\u001b[0;32m      6\u001b[0m     marker\u001b[38;5;241m=\u001b[39m\u001b[38;5;28mdict\u001b[39m(\n\u001b[0;32m      7\u001b[0m         size\u001b[38;5;241m=\u001b[39m\u001b[38;5;241m6\u001b[39m,  \u001b[38;5;66;03m# Adjust the size of the markers\u001b[39;00m\n\u001b[0;32m      8\u001b[0m         color\u001b[38;5;241m=\u001b[39m\u001b[38;5;124m'\u001b[39m\u001b[38;5;124mpurple\u001b[39m\u001b[38;5;124m'\u001b[39m,  \u001b[38;5;66;03m# Change marker color to red\u001b[39;00m\n\u001b[0;32m      9\u001b[0m         opacity\u001b[38;5;241m=\u001b[39m\u001b[38;5;241m0.7\u001b[39m,  \u001b[38;5;66;03m# Adjust marker opacity\u001b[39;00m\n\u001b[0;32m     10\u001b[0m     ),\n\u001b[0;32m     11\u001b[0m     text\u001b[38;5;241m=\u001b[39mfraud[\u001b[38;5;124m'\u001b[39m\u001b[38;5;124mAmount\u001b[39m\u001b[38;5;124m'\u001b[39m],\n\u001b[0;32m     12\u001b[0m     name\u001b[38;5;241m=\u001b[39m\u001b[38;5;124m\"\u001b[39m\u001b[38;5;124mAmount\u001b[39m\u001b[38;5;124m\"\u001b[39m\n\u001b[0;32m     13\u001b[0m )\n\u001b[0;32m     15\u001b[0m data \u001b[38;5;241m=\u001b[39m [trace]\n\u001b[0;32m     17\u001b[0m \u001b[38;5;66;03m# Define the layout\u001b[39;00m\n",
      "\u001b[1;31mNameError\u001b[0m: name 'go' is not defined"
     ]
    }
   ],
   "source": [
    "# Create a scatter plot for fraudulent transactions\n",
    "trace = go.Scatter(\n",
    "    x=fraud['Time'],\n",
    "    y=fraud['Amount'],\n",
    "    mode=\"markers\",\n",
    "    marker=dict(\n",
    "        size=6,  # Adjust the size of the markers\n",
    "        color='purple',  # Change marker color to red\n",
    "        opacity=0.7,  # Adjust marker opacity\n",
    "    ),\n",
    "    text=fraud['Amount'],\n",
    "    name=\"Amount\"\n",
    ")\n",
    "\n",
    "data = [trace]\n",
    "\n",
    "# Define the layout\n",
    "layout = go.Layout(\n",
    "    title='Amount of Fraudulent Transactions',\n",
    "    xaxis=dict(title='Time [s]', showticklabels=True),\n",
    "    yaxis=dict(title='Amount'),\n",
    "    hovermode='closest'\n",
    ")\n",
    "\n",
    "fig = go.Figure(data=data, layout=layout)\n",
    "\n",
    "# Show the plot\n",
    "iplot(fig, filename='fraud-amount')\n"
   ]
  },
  {
   "cell_type": "code",
   "execution_count": 14,
   "id": "df759112",
   "metadata": {
    "execution": {
     "iopub.execute_input": "2023-10-30T20:24:05.031247Z",
     "iopub.status.busy": "2023-10-30T20:24:05.030082Z",
     "iopub.status.idle": "2023-10-30T20:24:05.298934Z",
     "shell.execute_reply": "2023-10-30T20:24:05.297472Z"
    },
    "papermill": {
     "duration": 0.29187,
     "end_time": "2023-10-30T20:24:05.301932",
     "exception": false,
     "start_time": "2023-10-30T20:24:05.010062",
     "status": "completed"
    },
    "tags": []
   },
   "outputs": [
    {
     "name": "stdout",
     "output_type": "stream",
     "text": [
      "Non-fraud transactions: 99.83%\n",
      "Fraud transactions: 0.17%\n"
     ]
    },
    {
     "data": {
      "image/png": "[encoded data removed]",
      "text/plain": [
       "<Figure size 640x480 with 1 Axes>"
      ]
     },
     "metadata": {},
     "output_type": "display_data"
    }
   ],
   "source": [
    "sns.countplot(x='Class', data=df)\n",
    "print('Non-fraud transactions: {}%'.format(round(df.Class.value_counts()[0]/len(df)*100.0,2)))\n",
    "print('Fraud transactions: {}%'.format(round(df.Class.value_counts()[1]/len(df)*100.0,2)))"
   ]
  },
  {
   "cell_type": "code",
   "execution_count": 15,
   "id": "02732581",
   "metadata": {
    "execution": {
     "iopub.execute_input": "2023-10-30T20:24:05.342442Z",
     "iopub.status.busy": "2023-10-30T20:24:05.341540Z",
     "iopub.status.idle": "2023-10-30T20:24:05.378847Z",
     "shell.execute_reply": "2023-10-30T20:24:05.377387Z"
    },
    "papermill": {
     "duration": 0.061922,
     "end_time": "2023-10-30T20:24:05.382195",
     "exception": false,
     "start_time": "2023-10-30T20:24:05.320273",
     "status": "completed"
    },
    "tags": []
   },
   "outputs": [],
   "source": [
    "x = df.drop([\"Class\"], axis = 1)\n",
    "y = df[\"Class\"]"
   ]
  },
  {
   "cell_type": "code",
   "execution_count": 16,
   "id": "6adad860",
   "metadata": {
    "execution": {
     "iopub.execute_input": "2023-10-30T20:24:05.420898Z",
     "iopub.status.busy": "2023-10-30T20:24:05.420439Z",
     "iopub.status.idle": "2023-10-30T20:24:07.317685Z",
     "shell.execute_reply": "2023-10-30T20:24:07.316488Z"
    },
    "papermill": {
     "duration": 1.920347,
     "end_time": "2023-10-30T20:24:07.320732",
     "exception": false,
     "start_time": "2023-10-30T20:24:05.400385",
     "status": "completed"
    },
    "tags": []
   },
   "outputs": [],
   "source": [
    "from imblearn.under_sampling import NearMiss\n",
    "nm = NearMiss()\n",
    "x_nm, y_nm = nm.fit_resample(x, y)"
   ]
  },
  {
   "cell_type": "code",
   "execution_count": 17,
   "id": "1c0f9898",
   "metadata": {
    "execution": {
     "iopub.execute_input": "2023-10-30T20:24:07.362422Z",
     "iopub.status.busy": "2023-10-30T20:24:07.360969Z",
     "iopub.status.idle": "2023-10-30T20:24:07.368315Z",
     "shell.execute_reply": "2023-10-30T20:24:07.367184Z"
    },
    "papermill": {
     "duration": 0.031239,
     "end_time": "2023-10-30T20:24:07.371293",
     "exception": false,
     "start_time": "2023-10-30T20:24:07.340054",
     "status": "completed"
    },
    "tags": []
   },
   "outputs": [
    {
     "name": "stdout",
     "output_type": "stream",
     "text": [
      "(984, 30) (984,)\n"
     ]
    }
   ],
   "source": [
    "print(x_nm.shape, y_nm.shape)"
   ]
  },
  {
   "cell_type": "code",
   "execution_count": 18,
   "id": "23736774",
   "metadata": {
    "execution": {
     "iopub.execute_input": "2023-10-30T20:24:07.450192Z",
     "iopub.status.busy": "2023-10-30T20:24:07.448961Z",
     "iopub.status.idle": "2023-10-30T20:24:07.461760Z",
     "shell.execute_reply": "2023-10-30T20:24:07.460558Z"
    },
    "papermill": {
     "duration": 0.038115,
     "end_time": "2023-10-30T20:24:07.464977",
     "exception": false,
     "start_time": "2023-10-30T20:24:07.426862",
     "status": "completed"
    },
    "tags": []
   },
   "outputs": [],
   "source": [
    "scalar = StandardScaler()\n",
    "x_scaled = scalar.fit_transform(x_nm)"
   ]
  },
  {
   "cell_type": "code",
   "execution_count": 19,
   "id": "e144fc43",
   "metadata": {
    "execution": {
     "iopub.execute_input": "2023-10-30T20:24:07.542843Z",
     "iopub.status.busy": "2023-10-30T20:24:07.542068Z",
     "iopub.status.idle": "2023-10-30T20:24:07.548257Z",
     "shell.execute_reply": "2023-10-30T20:24:07.547122Z"
    },
    "papermill": {
     "duration": 0.029799,
     "end_time": "2023-10-30T20:24:07.551268",
     "exception": false,
     "start_time": "2023-10-30T20:24:07.521469",
     "status": "completed"
    },
    "tags": []
   },
   "outputs": [],
   "source": [
    "# Splitting the dataset into train and test \n",
    "x_train,x_test,y_train,y_test = train_test_split(x_scaled,y_nm, test_size = 0.25)"
   ]
  },
  {
   "cell_type": "code",
   "execution_count": 20,
   "id": "9e4ad87c",
   "metadata": {
    "execution": {
     "iopub.execute_input": "2023-10-30T20:24:07.592155Z",
     "iopub.status.busy": "2023-10-30T20:24:07.591279Z",
     "iopub.status.idle": "2023-10-30T20:24:07.600757Z",
     "shell.execute_reply": "2023-10-30T20:24:07.599327Z"
    },
    "papermill": {
     "duration": 0.034072,
     "end_time": "2023-10-30T20:24:07.604125",
     "exception": false,
     "start_time": "2023-10-30T20:24:07.570053",
     "status": "completed"
    },
    "tags": []
   },
   "outputs": [],
   "source": [
    "acc = []\n",
    "# Define a function to evaluate a model\n",
    "def evaluate_model(model, x_train, y_train, x_test, y_test):\n",
    "    model.fit(x_train, y_train)\n",
    "    \n",
    "    accuracy = model.score(x_test, y_test)\n",
    "    print(\"Accuracy: {}\".format(accuracy))\n",
    "    \n",
    "    cv_scores = cross_val_score(model, x_train, y_train, cv=5)\n",
    "    mean_cv_score = np.mean(cv_scores)\n",
    "    print(\"Cross Val Score: {}\".format(mean_cv_score))\n",
    "    acc.append(accuracy)\n",
    "\n",
    "# Define a function to print the confusion matrix\n",
    "def plot_confusion_matrix(model, x_test, y_test):\n",
    "    # Make predictions using the model\n",
    "    y_pred = model.predict(x_test)\n",
    "    \n",
    "    # Calculate the confusion matrix\n",
    "    cm = confusion_matrix(y_test, y_pred)\n",
    "    \n",
    "    # Create a heatmap of the confusion matrix\n",
    "    sns.heatmap(cm, annot=True, fmt=\"d\", cmap=\"Blues\")\n",
    "    plt.xlabel('Predicted')\n",
    "    plt.ylabel('Actual')\n",
    "    plt.title('Confusion Matrix')\n",
    "    plt.show()"
   ]
  },
  {
   "cell_type": "code",
   "execution_count": 21,
   "id": "d8ed2abb",
   "metadata": {
    "execution": {
     "iopub.execute_input": "2023-10-30T20:24:07.644164Z",
     "iopub.status.busy": "2023-10-30T20:24:07.643631Z",
     "iopub.status.idle": "2023-10-30T20:24:10.269876Z",
     "shell.execute_reply": "2023-10-30T20:24:10.268590Z"
    },
    "papermill": {
     "duration": 2.650205,
     "end_time": "2023-10-30T20:24:10.272905",
     "exception": false,
     "start_time": "2023-10-30T20:24:07.622700",
     "status": "completed"
    },
    "tags": []
   },
   "outputs": [
    {
     "name": "stdout",
     "output_type": "stream",
     "text": [
      "Accuracy: 0.943089430894309\n",
      "Cross Val Score: 0.9661059018201875\n"
     ]
    },
    {
     "data": {
      "image/png": "[encoded data removed]",
      "text/plain": [
       "<Figure size 640x480 with 2 Axes>"
      ]
     },
     "metadata": {},
     "output_type": "display_data"
    }
   ],
   "source": [
    "from sklearn.ensemble import RandomForestClassifier\n",
    "clf = RandomForestClassifier()\n",
    "evaluate_model(clf, x_train, y_train, x_test, y_test)\n",
    "\n",
    "plot_confusion_matrix(clf, x_test, y_test)"
   ]
  },
  {
   "cell_type": "code",
   "execution_count": 22,
   "id": "7a5dcbe4",
   "metadata": {
    "execution": {
     "iopub.execute_input": "2023-10-30T20:24:10.314436Z",
     "iopub.status.busy": "2023-10-30T20:24:10.313215Z",
     "iopub.status.idle": "2023-10-30T20:24:10.757660Z",
     "shell.execute_reply": "2023-10-30T20:24:10.756679Z"
    },
    "papermill": {
     "duration": 0.467765,
     "end_time": "2023-10-30T20:24:10.760144",
     "exception": false,
     "start_time": "2023-10-30T20:24:10.292379",
     "status": "completed"
    },
    "tags": []
   },
   "outputs": [
    {
     "name": "stdout",
     "output_type": "stream",
     "text": [
      "Accuracy: 0.9024390243902439\n",
      "Cross Val Score: 0.9376447876447876\n"
     ]
    },
    {
     "data": {
      "image/png": "[encoded data removed]",
      "text/plain": [
       "<Figure size 640x480 with 2 Axes>"
      ]
     },
     "metadata": {},
     "output_type": "display_data"
    }
   ],
   "source": [
    "from sklearn.neighbors import KNeighborsClassifier\n",
    "clf = KNeighborsClassifier()\n",
    "evaluate_model(clf, x_train, y_train, x_test, y_test)\n",
    "\n",
    "plot_confusion_matrix(clf, x_test, y_test)"
   ]
  },
  {
   "cell_type": "code",
   "execution_count": 23,
   "id": "e3fdd16c",
   "metadata": {
    "execution": {
     "iopub.execute_input": "2023-10-30T20:24:10.802668Z",
     "iopub.status.busy": "2023-10-30T20:24:10.801464Z",
     "iopub.status.idle": "2023-10-30T20:24:12.717505Z",
     "shell.execute_reply": "2023-10-30T20:24:12.716194Z"
    },
    "papermill": {
     "duration": 1.940416,
     "end_time": "2023-10-30T20:24:12.720373",
     "exception": false,
     "start_time": "2023-10-30T20:24:10.779957",
     "status": "completed"
    },
    "tags": []
   },
   "outputs": [
    {
     "name": "stdout",
     "output_type": "stream",
     "text": [
      "Accuracy: 0.9471544715447154\n",
      "Cross Val Score: 0.9674756389042104\n"
     ]
    },
    {
     "data": {
      "image/png": "[encoded data removed]",
      "text/plain": [
       "<Figure size 640x480 with 2 Axes>"
      ]
     },
     "metadata": {},
     "output_type": "display_data"
    }
   ],
   "source": [
    "from sklearn.ensemble import AdaBoostClassifier\n",
    "clf = AdaBoostClassifier()\n",
    "evaluate_model(clf, x_train, y_train, x_test, y_test)\n",
    "\n",
    "plot_confusion_matrix(clf, x_test, y_test)"
   ]
  },
  {
   "cell_type": "code",
   "execution_count": 24,
   "id": "6fcce82a",
   "metadata": {
    "execution": {
     "iopub.execute_input": "2023-10-30T20:24:12.765541Z",
     "iopub.status.busy": "2023-10-30T20:24:12.765004Z",
     "iopub.status.idle": "2023-10-30T20:24:13.883491Z",
     "shell.execute_reply": "2023-10-30T20:24:13.882030Z"
    },
    "papermill": {
     "duration": 1.145914,
     "end_time": "2023-10-30T20:24:13.886510",
     "exception": false,
     "start_time": "2023-10-30T20:24:12.740596",
     "status": "completed"
    },
    "tags": []
   },
   "outputs": [
    {
     "name": "stdout",
     "output_type": "stream",
     "text": [
      "Accuracy: 0.9552845528455285\n",
      "Cross Val Score: 0.9674756389042102\n"
     ]
    },
    {
     "data": {
      "image/png": "[encoded data removed]",
      "text/plain": [
       "<Figure size 640x480 with 2 Axes>"
      ]
     },
     "metadata": {},
     "output_type": "display_data"
    }
   ],
   "source": [
    "from xgboost import XGBClassifier\n",
    "clf = XGBClassifier()\n",
    "evaluate_model(clf, x_train, y_train, x_test, y_test)\n",
    "\n",
    "plot_confusion_matrix(clf, x_test, y_test)"
   ]
  },
  {
   "cell_type": "code",
   "execution_count": 25,
   "id": "b35a945d",
   "metadata": {
    "execution": {
     "iopub.execute_input": "2023-10-30T20:24:14.012929Z",
     "iopub.status.busy": "2023-10-30T20:24:14.012464Z",
     "iopub.status.idle": "2023-10-30T20:24:14.046609Z",
     "shell.execute_reply": "2023-10-30T20:24:14.044631Z"
    },
    "papermill": {
     "duration": 0.059644,
     "end_time": "2023-10-30T20:24:14.049614",
     "exception": false,
     "start_time": "2023-10-30T20:24:13.989970",
     "status": "completed"
    },
    "tags": []
   },
   "outputs": [
    {
     "name": "stdout",
     "output_type": "stream",
     "text": [
      "(284807, 30)\n",
      "(284807,)\n"
     ]
    }
   ],
   "source": [
    "#Get all the columns from the dataframe\n",
    "columns = df.columns.tolist()\n",
    "\n",
    "# Filter the columns to remove data we do not want \n",
    "columns = [c for c in columns if c not in [\"Class\"]]\n",
    "target = \"Class\"\n",
    "\n",
    "# Define a random state \n",
    "state = np.random.RandomState(45)\n",
    "X = df[columns]\n",
    "Y = df[target]\n",
    "\n",
    "# Print the shapes of X & Y\n",
    "print(X.shape)\n",
    "print(Y.shape)"
   ]
  },
  {
   "cell_type": "code",
   "execution_count": 26,
   "id": "4be33f6a",
   "metadata": {
    "execution": {
     "iopub.execute_input": "2023-10-30T20:24:14.094786Z",
     "iopub.status.busy": "2023-10-30T20:24:14.094301Z",
     "iopub.status.idle": "2023-10-30T20:24:54.975813Z",
     "shell.execute_reply": "2023-10-30T20:24:54.974584Z"
    },
    "papermill": {
     "duration": 40.927663,
     "end_time": "2023-10-30T20:24:54.998977",
     "exception": false,
     "start_time": "2023-10-30T20:24:14.071314",
     "status": "completed"
    },
    "tags": []
   },
   "outputs": [
    {
     "name": "stdout",
     "output_type": "stream",
     "text": [
      "Isolation Forest: 667\n",
      "Accuracy Score: 0.9976580631796269\n",
      "Classification Report:\n",
      "              precision    recall  f1-score   support\n",
      "\n",
      "           0       1.00      1.00      1.00    284315\n",
      "           1       0.32      0.32      0.32       492\n",
      "\n",
      "    accuracy                           1.00    284807\n",
      "   macro avg       0.66      0.66      0.66    284807\n",
      "weighted avg       1.00      1.00      1.00    284807\n",
      "\n"
     ]
    }
   ],
   "source": [
    "from sklearn.ensemble import IsolationForest\n",
    "import warnings\n",
    "warnings.filterwarnings(\"ignore\")\n",
    "\n",
    "# Create the Isolation Forest model\n",
    "clf = IsolationForest(n_estimators=100, max_samples=len(X), contamination = len(fraud)/float(len(not_fraud)), random_state=state, verbose=0,)\n",
    "\n",
    "# Fit the model to the data\n",
    "clf.fit(X)\n",
    "\n",
    "# Predict anomalies\n",
    "y_pred = clf.predict(X)\n",
    "\n",
    "# Reshape the prediction values to 0 for Valid transactions, 1 for Fraud transactions\n",
    "y_pred = [1 if x == -1 else 0 for x in y_pred]\n",
    "\n",
    "# Calculate the number of errors\n",
    "n_errors = (y_pred != Y).sum()\n",
    "\n",
    "# Calculate accuracy and print classification report\n",
    "from sklearn.metrics import accuracy_score, classification_report\n",
    "\n",
    "accuracy = accuracy_score(Y, y_pred)\n",
    "acc.append(accuracy)\n",
    "report = classification_report(Y, y_pred)\n",
    "\n",
    "# Print the results\n",
    "print(f\"Isolation Forest: {n_errors}\")\n",
    "print(f\"Accuracy Score: {accuracy}\")\n",
    "print(\"Classification Report:\")\n",
    "print(report)\n"
   ]
  },
  {
   "cell_type": "code",
   "execution_count": 27,
   "id": "cf016040",
   "metadata": {
    "execution": {
     "iopub.execute_input": "2023-10-30T20:24:55.043579Z",
     "iopub.status.busy": "2023-10-30T20:24:55.042027Z",
     "iopub.status.idle": "2023-10-30T20:24:55.051788Z",
     "shell.execute_reply": "2023-10-30T20:24:55.050309Z"
    },
    "papermill": {
     "duration": 0.035291,
     "end_time": "2023-10-30T20:24:55.054927",
     "exception": false,
     "start_time": "2023-10-30T20:24:55.019636",
     "status": "completed"
    },
    "tags": []
   },
   "outputs": [
    {
     "data": {
      "text/plain": [
       "['94.31%', '90.24%', '94.72%', '95.53%', '99.77%']"
      ]
     },
     "execution_count": 27,
     "metadata": {},
     "output_type": "execute_result"
    }
   ],
   "source": [
    "models = [\"RandomForestClassifier\", \"KNeighborsClassifier\", \"AdaBoostClassifier\", \"XGBClassifier\", \"IsolationForest\"]\n",
    "acc_percentages = [f\"{score * 100:.2f}%\" for score in acc]\n",
    "acc_percentages"
   ]
  },
  {
   "cell_type": "code",
   "execution_count": 28,
   "id": "22e7b1be",
   "metadata": {
    "execution": {
     "iopub.execute_input": "2023-10-30T20:24:55.100525Z",
     "iopub.status.busy": "2023-10-30T20:24:55.099980Z",
     "iopub.status.idle": "2023-10-30T20:24:55.112935Z",
     "shell.execute_reply": "2023-10-30T20:24:55.111451Z"
    },
    "papermill": {
     "duration": 0.038997,
     "end_time": "2023-10-30T20:24:55.115841",
     "exception": false,
     "start_time": "2023-10-30T20:24:55.076844",
     "status": "completed"
    },
    "tags": []
   },
   "outputs": [
    {
     "data": {
      "text/html": [
       "<div>\n",
       "<style scoped>\n",
       "    .dataframe tbody tr th:only-of-type {\n",
       "        vertical-align: middle;\n",
       "    }\n",
       "\n",
       "    .dataframe tbody tr th {\n",
       "        vertical-align: top;\n",
       "    }\n",
       "\n",
       "    .dataframe thead th {\n",
       "        text-align: right;\n",
       "    }\n",
       "</style>\n",
       "<table border=\"1\" class=\"dataframe\">\n",
       "  <thead>\n",
       "    <tr style=\"text-align: right;\">\n",
       "      <th></th>\n",
       "      <th>Model</th>\n",
       "      <th>Accuracy Score</th>\n",
       "    </tr>\n",
       "  </thead>\n",
       "  <tbody>\n",
       "    <tr>\n",
       "      <th>0</th>\n",
       "      <td>RandomForestClassifier</td>\n",
       "      <td>94.31%</td>\n",
       "    </tr>\n",
       "    <tr>\n",
       "      <th>1</th>\n",
       "      <td>KNeighborsClassifier</td>\n",
       "      <td>90.24%</td>\n",
       "    </tr>\n",
       "    <tr>\n",
       "      <th>2</th>\n",
       "      <td>AdaBoostClassifier</td>\n",
       "      <td>94.72%</td>\n",
       "    </tr>\n",
       "    <tr>\n",
       "      <th>3</th>\n",
       "      <td>XGBClassifier</td>\n",
       "      <td>95.53%</td>\n",
       "    </tr>\n",
       "    <tr>\n",
       "      <th>4</th>\n",
       "      <td>IsolationForest</td>\n",
       "      <td>99.77%</td>\n",
       "    </tr>\n",
       "  </tbody>\n",
       "</table>\n",
       "</div>"
      ],
      "text/plain": [
       "                    Model Accuracy Score\n",
       "0  RandomForestClassifier         94.31%\n",
       "1    KNeighborsClassifier         90.24%\n",
       "2      AdaBoostClassifier         94.72%\n",
       "3           XGBClassifier         95.53%\n",
       "4         IsolationForest         99.77%"
      ]
     },
     "execution_count": 28,
     "metadata": {},
     "output_type": "execute_result"
    }
   ],
   "source": [
    "acc_scores = {\"Model\": models, \"Accuracy Score\": acc_percentages}\n",
    "score_df = pd.DataFrame(acc_scores)\n",
    "score_df"
   ]
  }
 ],
 "metadata": {
  "kernelspec": {
   "display_name": "Python 3 (ipykernel)",
   "language": "python",
   "name": "python3"
  },
  "language_info": {
   "codemirror_mode": {
    "name": "ipython",
    "version": 3
   },
   "file_extension": ".py",
   "mimetype": "text/x-python",
   "name": "python",
   "nbconvert_exporter": "python",
   "pygments_lexer": "ipython3",
   "version": "3.11.3"
  },
  "papermill": {
   "default_parameters": {},
   "duration": 94.706701,
   "end_time": "2023-10-30T20:24:57.998977",
   "environment_variables": {},
   "exception": null,
   "input_path": "__notebook__.ipynb",
   "output_path": "__notebook__.ipynb",
   "parameters": {},
   "start_time": "2023-10-30T20:23:23.292276",
   "version": "2.4.0"
  }
 },
 "nbformat": 4,
 "nbformat_minor": 5
}
